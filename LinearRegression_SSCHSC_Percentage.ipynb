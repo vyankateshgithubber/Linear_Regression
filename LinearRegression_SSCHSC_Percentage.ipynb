{
  "nbformat": 4,
  "nbformat_minor": 0,
  "metadata": {
    "colab": {
      "name": "LinearRegression_SSCHSC_Percentage.ipynb",
      "provenance": [],
      "authorship_tag": "ABX9TyOIUjiGwOH2bBjmIq6EiV+L",
      "include_colab_link": true
    },
    "kernelspec": {
      "name": "python3",
      "display_name": "Python 3"
    }
  },
  "cells": [
    {
      "cell_type": "markdown",
      "metadata": {
        "id": "view-in-github",
        "colab_type": "text"
      },
      "source": [
        "<a href=\"https://colab.research.google.com/github/vyankateshgithubber/Linear_Regression/blob/master/LinearRegression_SSCHSC_Percentage.ipynb\" target=\"_parent\"><img src=\"https://colab.research.google.com/assets/colab-badge.svg\" alt=\"Open In Colab\"/></a>"
      ]
    },
    {
      "cell_type": "markdown",
      "metadata": {
        "id": "v-vv5MGA6NqM",
        "colab_type": "text"
      },
      "source": [
        "**Import  the libraries**"
      ]
    },
    {
      "cell_type": "code",
      "metadata": {
        "id": "_Q0Y7hJW6sPE",
        "colab_type": "code",
        "colab": {}
      },
      "source": [
        "import numpy as np\n",
        "import pandas as pd\n",
        "import matplotlib.pyplot as plt\n",
        "import numpy as np"
      ],
      "execution_count": 1,
      "outputs": []
    },
    {
      "cell_type": "markdown",
      "metadata": {
        "id": "pY3YdgSX67HB",
        "colab_type": "text"
      },
      "source": [
        "**Import the datasets**\n",
        "\n"
      ]
    },
    {
      "cell_type": "code",
      "metadata": {
        "id": "LLLWioFc7ghI",
        "colab_type": "code",
        "colab": {
          "base_uri": "https://localhost:8080/",
          "height": 638
        },
        "outputId": "01defefa-df50-4fbb-a0eb-11ba1f2545ab"
      },
      "source": [
        "dataset = pd.read_csv(\"Placement_Data_Full_Class.csv\")\n",
        "print(dataset)\n",
        "print(dataset.info())\n",
        "size = dataset.shape[0]"
      ],
      "execution_count": 12,
      "outputs": [
        {
          "output_type": "stream",
          "text": [
            "     sl_no gender  ssc_p    ssc_b  ...  specialisation  mba_p      status    salary\n",
            "0        1      M  67.00   Others  ...          Mkt&HR  58.80      Placed  270000.0\n",
            "1        2      M  79.33  Central  ...         Mkt&Fin  66.28      Placed  200000.0\n",
            "2        3      M  65.00  Central  ...         Mkt&Fin  57.80      Placed  250000.0\n",
            "3        4      M  56.00  Central  ...          Mkt&HR  59.43  Not Placed       NaN\n",
            "4        5      M  85.80  Central  ...         Mkt&Fin  55.50      Placed  425000.0\n",
            "..     ...    ...    ...      ...  ...             ...    ...         ...       ...\n",
            "210    211      M  80.60   Others  ...         Mkt&Fin  74.49      Placed  400000.0\n",
            "211    212      M  58.00   Others  ...         Mkt&Fin  53.62      Placed  275000.0\n",
            "212    213      M  67.00   Others  ...         Mkt&Fin  69.72      Placed  295000.0\n",
            "213    214      F  74.00   Others  ...          Mkt&HR  60.23      Placed  204000.0\n",
            "214    215      M  62.00  Central  ...          Mkt&HR  60.22  Not Placed       NaN\n",
            "\n",
            "[215 rows x 15 columns]\n",
            "<class 'pandas.core.frame.DataFrame'>\n",
            "RangeIndex: 215 entries, 0 to 214\n",
            "Data columns (total 15 columns):\n",
            " #   Column          Non-Null Count  Dtype  \n",
            "---  ------          --------------  -----  \n",
            " 0   sl_no           215 non-null    int64  \n",
            " 1   gender          215 non-null    object \n",
            " 2   ssc_p           215 non-null    float64\n",
            " 3   ssc_b           215 non-null    object \n",
            " 4   hsc_p           215 non-null    float64\n",
            " 5   hsc_b           215 non-null    object \n",
            " 6   hsc_s           215 non-null    object \n",
            " 7   degree_p        215 non-null    float64\n",
            " 8   degree_t        215 non-null    object \n",
            " 9   workex          215 non-null    object \n",
            " 10  etest_p         215 non-null    float64\n",
            " 11  specialisation  215 non-null    object \n",
            " 12  mba_p           215 non-null    float64\n",
            " 13  status          215 non-null    object \n",
            " 14  salary          148 non-null    float64\n",
            "dtypes: float64(6), int64(1), object(8)\n",
            "memory usage: 25.3+ KB\n",
            "None\n"
          ],
          "name": "stdout"
        }
      ]
    },
    {
      "cell_type": "markdown",
      "metadata": {
        "id": "JTGQxjTO86rC",
        "colab_type": "text"
      },
      "source": [
        "**Our Main is find the relation between the SSC and HSC percentage i.e using the ssc percentage we are going to predict the HSC percentage**"
      ]
    },
    {
      "cell_type": "code",
      "metadata": {
        "id": "clJk6Qxc8Zw3",
        "colab_type": "code",
        "colab": {
          "base_uri": "https://localhost:8080/",
          "height": 267
        },
        "outputId": "0c69fb94-d446-4a02-fcb6-5027e089de14"
      },
      "source": [
        "X = dataset.iloc[:,2].values.reshape(-1,1)\n",
        "y = dataset.iloc[:,4].values.reshape(-1,1)\n",
        "plt.scatter(X,y,marker='o')\n",
        "plt.show()"
      ],
      "execution_count": 59,
      "outputs": [
        {
          "output_type": "display_data",
          "data": {
            "image/png": "[encoded data removed]",
            "text/plain": [
              "<Figure size 432x288 with 1 Axes>"
            ]
          },
          "metadata": {
            "tags": [],
            "needs_background": "light"
          }
        }
      ]
    },
    {
      "cell_type": "markdown",
      "metadata": {
        "id": "OfutatSOGaec",
        "colab_type": "text"
      },
      "source": [
        " **Split the data into two sets training and testing**  "
      ]
    },
    {
      "cell_type": "code",
      "metadata": {
        "id": "Tb28V957GMxE",
        "colab_type": "code",
        "colab": {
          "base_uri": "https://localhost:8080/",
          "height": 50
        },
        "outputId": "3e59ec2f-bfd9-4378-cc38-36a1cb634098"
      },
      "source": [
        "from sklearn.model_selection import train_test_split\n",
        "X_train, X_test, y_train, y_test = train_test_split(X, y, test_size=0.2,random_state=0)\n",
        "print(X_train.shape)\n",
        "print(X_test.shape)"
      ],
      "execution_count": 60,
      "outputs": [
        {
          "output_type": "stream",
          "text": [
            "(172, 1)\n",
            "(43, 1)\n"
          ],
          "name": "stdout"
        }
      ]
    },
    {
      "cell_type": "markdown",
      "metadata": {
        "id": "iRtTiLwBI8FV",
        "colab_type": "text"
      },
      "source": [
        " **Training the model and predict values of test set**"
      ]
    },
    {
      "cell_type": "code",
      "metadata": {
        "id": "uR9P_sv5IbI8",
        "colab_type": "code",
        "colab": {
          "base_uri": "https://localhost:8080/",
          "height": 739
        },
        "outputId": "fc4adea9-9ae7-46cf-f9f7-50732d16b96d"
      },
      "source": [
        "from sklearn.linear_model import LinearRegression\n",
        "model = LinearRegression()\n",
        "model.fit(X_train, y_train)\n",
        "y_pred = model.predict(X_test)\n",
        "print(y_pred)"
      ],
      "execution_count": 61,
      "outputs": [
        {
          "output_type": "stream",
          "text": [
            "[[66.39240394]\n",
            " [72.68270277]\n",
            " [75.30366062]\n",
            " [56.43276412]\n",
            " [73.20689434]\n",
            " [62.19887139]\n",
            " [71.11012806]\n",
            " [66.39240394]\n",
            " [60.10210511]\n",
            " [75.30366062]\n",
            " [62.93273958]\n",
            " [78.13429509]\n",
            " [76.87623532]\n",
            " [61.67467982]\n",
            " [60.94081162]\n",
            " [60.45855538]\n",
            " [72.68270277]\n",
            " [55.90857256]\n",
            " [56.95695569]\n",
            " [66.39240394]\n",
            " [62.70209529]\n",
            " [65.86821237]\n",
            " [63.77144609]\n",
            " [64.81982923]\n",
            " [58.5295304 ]\n",
            " [64.29563766]\n",
            " [77.40042689]\n",
            " [65.3440208 ]\n",
            " [63.77144609]\n",
            " [70.58593649]\n",
            " [74.25527748]\n",
            " [63.24725452]\n",
            " [71.98552798]\n",
            " [68.22707443]\n",
            " [55.90857256]\n",
            " [70.16658324]\n",
            " [76.87623532]\n",
            " [59.05372197]\n",
            " [75.82785219]\n",
            " [61.67467982]\n",
            " [63.28918985]\n",
            " [63.77144609]\n",
            " [71.63431963]]\n"
          ],
          "name": "stdout"
        }
      ]
    },
    {
      "cell_type": "markdown",
      "metadata": {
        "id": "55ccNToWLo-t",
        "colab_type": "text"
      },
      "source": [
        " **Visualization of predicted data and real data**"
      ]
    },
    {
      "cell_type": "code",
      "metadata": {
        "id": "Wgo3TJW2KtWV",
        "colab_type": "code",
        "colab": {
          "base_uri": "https://localhost:8080/",
          "height": 756
        },
        "outputId": "be2cacc5-cf4d-466b-e8e0-e6496331edba"
      },
      "source": [
        "df = pd.DataFrame({'Actual':y_test.flatten(),'Predicted':y_pred.flatten()})\n",
        "print(df)"
      ],
      "execution_count": 62,
      "outputs": [
        {
          "output_type": "stream",
          "text": [
            "    Actual  Predicted\n",
            "0    70.00  66.392404\n",
            "1    76.00  72.682703\n",
            "2    75.00  75.303661\n",
            "3    51.00  56.432764\n",
            "4    80.00  73.206894\n",
            "5    62.00  62.198871\n",
            "6    70.00  71.110128\n",
            "7    63.00  66.392404\n",
            "8    49.80  60.102105\n",
            "9    79.00  75.303661\n",
            "10   66.60  62.932740\n",
            "11   65.66  78.134295\n",
            "12   74.00  76.876235\n",
            "13   61.00  61.674680\n",
            "14   64.80  60.940812\n",
            "15   61.33  60.458555\n",
            "16   61.00  72.682703\n",
            "17   55.00  55.908573\n",
            "18   59.00  56.956956\n",
            "19   63.00  66.392404\n",
            "20   42.16  62.702095\n",
            "21   64.00  65.868212\n",
            "22   72.00  63.771446\n",
            "23   70.20  64.819829\n",
            "24   50.00  58.529530\n",
            "25   66.00  64.295638\n",
            "26   72.00  77.400427\n",
            "27   75.00  65.344021\n",
            "28   63.00  63.771446\n",
            "29   70.29  70.585936\n",
            "30   64.00  74.255277\n",
            "31   70.00  63.247255\n",
            "32   64.89  71.985528\n",
            "33   62.50  68.227074\n",
            "34   59.00  55.908573\n",
            "35   87.60  70.166583\n",
            "36   65.00  76.876235\n",
            "37   63.00  59.053722\n",
            "38   90.00  75.827852\n",
            "39   60.00  61.674680\n",
            "40   50.00  63.289190\n",
            "41   60.33  63.771446\n",
            "42   70.00  71.634320\n"
          ],
          "name": "stdout"
        }
      ]
    },
    {
      "cell_type": "code",
      "metadata": {
        "id": "0EC-E87XNhBE",
        "colab_type": "code",
        "colab": {
          "base_uri": "https://localhost:8080/",
          "height": 295
        },
        "outputId": "9a397723-90ec-4de7-c385-9b2bbe0b0b58"
      },
      "source": [
        "#visualiztion of training set\n",
        "plt.scatter(X_train,y_train,color='red')\n",
        "plt.plot(X_train,model.predict(X_train),color='blue')\n",
        "plt.title(' ssc_p (outcome variable) and hsc_p (predictor variable)(Training set)')\n",
        "plt.xlabel('ssc_p')\n",
        "plt.ylabel('hsc_p')\n",
        "plt.show()"
      ],
      "execution_count": 63,
      "outputs": [
        {
          "output_type": "display_data",
          "data": {
            "image/png": "[encoded data removed]",
            "text/plain": [
              "<Figure size 432x288 with 1 Axes>"
            ]
          },
          "metadata": {
            "tags": [],
            "needs_background": "light"
          }
        }
      ]
    },
    {
      "cell_type": "code",
      "metadata": {
        "id": "m8JnBYZjOZnx",
        "colab_type": "code",
        "colab": {
          "base_uri": "https://localhost:8080/",
          "height": 295
        },
        "outputId": "2561a1b9-c4ef-4395-bc18-de29cfcc66c7"
      },
      "source": [
        "# visualization of testing set\n",
        "plt.scatter(X_test,y_test,color='red')\n",
        "plt.plot(X_test,y_pred,color='blue')\n",
        "plt.title(' ssc_p (outcome variable) and hsc_p (predictor variable)(Testing set)')\n",
        "plt.xlabel('ssc_p')\n",
        "plt.ylabel('hsc_p')\n",
        "plt.show()"
      ],
      "execution_count": 64,
      "outputs": [
        {
          "output_type": "display_data",
          "data": {
            "image/png": "[encoded data removed]",
            "text/plain": [
              "<Figure size 432x288 with 1 Axes>"
            ]
          },
          "metadata": {
            "tags": [],
            "needs_background": "light"
          }
        }
      ]
    },
    {
      "cell_type": "code",
      "metadata": {
        "id": "nZm-iLOXPFck",
        "colab_type": "code",
        "colab": {
          "base_uri": "https://localhost:8080/",
          "height": 50
        },
        "outputId": "b076ef30-ded3-4eb1-942f-6460afc33b7f"
      },
      "source": [
        "# calculating the accuracy \n",
        "from sklearn.metrics import mean_squared_error\n",
        "train_acc = mean_squared_error(y_train,model.predict(X_train))\n",
        "print(\"The accuracy of model on training set is \",train_acc) \n",
        "test_acc = mean_squared_error(y_test,y_pred)\n",
        "print(\"The accuracy of model on testing set is \",test_acc) "
      ],
      "execution_count": 72,
      "outputs": [
        {
          "output_type": "stream",
          "text": [
            "The accuracy of model on training set is  95.22920850132262\n",
            "The accuracy of model on testing set is  55.77751471849925\n"
          ],
          "name": "stdout"
        }
      ]
    },
    {
      "cell_type": "markdown",
      "metadata": {
        "id": "ZHUw45TUXihS",
        "colab_type": "text"
      },
      "source": [
        "**As training accuracy is very high but the accuracy on  the testing set is very low. So by observing the accuracy we can say that model is overfitting. Linear Regression of model is not suitable for this problem we implement other regression methods on the same datasets.**"
      ]
    },
    {
      "cell_type": "code",
      "metadata": {
        "id": "7TYmf2YSY0hr",
        "colab_type": "code",
        "colab": {}
      },
      "source": [
        ""
      ],
      "execution_count": null,
      "outputs": []
    },
    {
      "cell_type": "code",
      "metadata": {
        "id": "2Bw19NH7QnEQ",
        "colab_type": "code",
        "colab": {}
      },
      "source": [
        ""
      ],
      "execution_count": null,
      "outputs": []
    }
  ]
}